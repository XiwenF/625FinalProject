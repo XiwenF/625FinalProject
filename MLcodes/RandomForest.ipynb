{
  "nbformat": 4,
  "nbformat_minor": 0,
  "metadata": {
    "colab": {
      "provenance": []
    },
    "kernelspec": {
      "name": "python3",
      "display_name": "Python 3"
    },
    "language_info": {
      "name": "python"
    }
  },
  "cells": [
    {
      "cell_type": "code",
      "execution_count": 1,
      "metadata": {
        "id": "ln26n4Rh_715"
      },
      "outputs": [],
      "source": [
        "import pandas as pd"
      ]
    },
    {
      "cell_type": "code",
      "source": [
        "from sklearn.metrics import confusion_matrix, ConfusionMatrixDisplay\n",
        "import matplotlib.pyplot as plt"
      ],
      "metadata": {
        "id": "At3R2FaRz2si"
      },
      "execution_count": 13,
      "outputs": []
    },
    {
      "cell_type": "code",
      "source": [
        "#from sklearn.ensemble import HistGradientBoostingClassifier\n",
        "#from sklearn.preprocessing import OrdinalEncoder\n",
        "\n",
        "#Pandas is used for data manipulation\n",
        "import pandas as pd\n",
        "# Read in data and display first 5 rows\n",
        "features = pd.read_csv(\"Dataset.csv\")\n",
        "features.head(5)\n",
        "# Descriptive statistics for each column\n",
        "features.describe()\n",
        "# One-hot encode the data using pandas get_dummies\n",
        "features = pd.get_dummies(features)\n",
        "# Display the first 5 rows of the last 12 columns\n",
        "features.iloc[:,5:].head(5)\n",
        "# Use numpy to convert to arrays\n",
        "import numpy as np\n",
        "# Labels are the values we want to predict\n",
        "labels = np.array(features['hospital_death'])\n",
        "\n",
        "# Remove the labels from the features\n",
        "# axis 1 refers to the columns\n",
        "features= features.drop('encounter_id', axis = 1)\n",
        "features= features.drop('patient_id', axis = 1)\n",
        "features= features.drop('hospital_id', axis = 1)\n",
        "features= features.drop('icu_id', axis = 1)\n",
        "# Saving feature names for later use\n",
        "feature_list = list(features.columns)\n",
        "# Convert to numpy array\n",
        "features = np.array(features)\n",
        "# Using Skicit-learn to split data into training and testing sets\n",
        "from sklearn.model_selection import train_test_split\n",
        "# Split the data into training and testing sets\n",
        "train_features, test_features, train_labels, test_labels = train_test_split(features, labels, test_size = 0.25, random_state = 42)"
      ],
      "metadata": {
        "id": "58z_5eCt_-0G"
      },
      "execution_count": 7,
      "outputs": []
    },
    {
      "cell_type": "code",
      "source": [
        "from sklearn.ensemble import RandomForestClassifier\n",
        "from sklearn.impute import SimpleImputer\n",
        "\n",
        "imp = SimpleImputer(missing_values=np.nan, strategy=\"mean\")\n",
        "train_features = imp.fit_transform(train_features)\n",
        "test_features = imp.transform(test_features)\n",
        "\n"
      ],
      "metadata": {
        "id": "UuO-JDD3BMWs"
      },
      "execution_count": 9,
      "outputs": []
    },
    {
      "cell_type": "code",
      "source": [
        "#Write train dataset and test dataset into dataframe\n",
        "df = pd.DataFrame(features,columns = feature_list)\n",
        "df.to_csv(index=False)\n",
        "dftrain = pd.DataFrame(train_features,columns = feature_list)\n",
        "dftest = pd.DataFrame(test_features,columns = feature_list)"
      ],
      "metadata": {
        "id": "YVi2BJ-WEyRd"
      },
      "execution_count": 11,
      "outputs": []
    },
    {
      "cell_type": "code",
      "source": [
        "dftrain.to_csv(index=False)\n",
        "dftest.to_csv(index=False)"
      ],
      "metadata": {
        "id": "7yVMySPWRpRv"
      },
      "execution_count": 11,
      "outputs": []
    },
    {
      "cell_type": "code",
      "source": [
        "#output the dataframe into zip\n",
        "compression_opts = dict(method='zip',\n",
        "                        archive_name='out.csv')  \n",
        "df.to_csv('out.zip', index=False,\n",
        "          compression=compression_opts) "
      ],
      "metadata": {
        "id": "XrWFwXliNcQo"
      },
      "execution_count": 12,
      "outputs": []
    },
    {
      "cell_type": "code",
      "source": [
        "compression_opts = dict(method='zip',\n",
        "                        archive_name='outtrain.csv')  \n",
        "dftrain.to_csv('outtrain.zip', index=False,\n",
        "          compression=compression_opts) \n",
        "compression_opts = dict(method='zip',\n",
        "                        archive_name='outtest.csv')  \n",
        "dftest.to_csv('outtest.zip', index=False,\n",
        "          compression=compression_opts) "
      ],
      "metadata": {
        "id": "60XRzXk2R3A7"
      },
      "execution_count": 13,
      "outputs": []
    },
    {
      "cell_type": "code",
      "source": [
        "#balanced random forest \n",
        "clf = RandomForestClassifier(max_depth=2,class_weight=\"balanced\", n_jobs=2, random_state=0)\n",
        "clf.fit(train_features, train_labels)\n",
        "\n",
        "print(clf.score(test_features, test_labels))\n",
        "\n",
        "# Create our predictions\n",
        "prediction = clf.predict(test_features)\n",
        "\n"
      ],
      "metadata": {
        "colab": {
          "base_uri": "https://localhost:8080/"
        },
        "id": "it0alE5DL7VO",
        "outputId": "dcdc5d54-7b03-4d4f-f46f-170279c252ff"
      },
      "execution_count": 12,
      "outputs": [
        {
          "output_type": "stream",
          "name": "stdout",
          "text": [
            "0.8701208077107593\n"
          ]
        }
      ]
    },
    {
      "cell_type": "code",
      "source": [
        "# Create confusion matrix\n",
        "from sklearn.metrics import confusion_matrix, f1_score, accuracy_score, recall_score, precision_score,roc_auc_score\n",
        "confusion_matrix(test_labels, prediction)\n",
        "cm = confusion_matrix(test_labels, prediction, labels=clf.classes_)\n",
        "disp= ConfusionMatrixDisplay(confusion_matrix=cm,display_labels=clf.classes_)\n",
        "disp.plot()\n",
        "plt.show()"
      ],
      "metadata": {
        "colab": {
          "base_uri": "https://localhost:8080/",
          "height": 279
        },
        "id": "fDtfTfIXRsTz",
        "outputId": "e1b169e7-98ea-4073-f4b1-8835bc2ed365"
      },
      "execution_count": 15,
      "outputs": [
        {
          "output_type": "display_data",
          "data": {
            "text/plain": [
              "<Figure size 432x288 with 2 Axes>"
            ],
            "image/png": "[encoded data removed]"
          },
          "metadata": {
            "needs_background": "light"
          }
        }
      ]
    },
    {
      "cell_type": "code",
      "source": [
        "# Display accuracy score\n",
        "accuracy_score(test_labels, prediction)\n"
      ],
      "metadata": {
        "colab": {
          "base_uri": "https://localhost:8080/"
        },
        "id": "_lWUBj16Rmrb",
        "outputId": "91dc5fa6-bc6e-4096-d9b3-369e9ef61603"
      },
      "execution_count": 16,
      "outputs": [
        {
          "output_type": "execute_result",
          "data": {
            "text/plain": [
              "0.8701208077107593"
            ]
          },
          "metadata": {},
          "execution_count": 16
        }
      ]
    },
    {
      "cell_type": "code",
      "source": [
        "# Display roc_auc_score\n",
        "roc_auc_score(test_labels,prediction)"
      ],
      "metadata": {
        "colab": {
          "base_uri": "https://localhost:8080/"
        },
        "id": "7owgd1YnROl3",
        "outputId": "746710f8-77b7-4d6b-bfed-feab36136e40"
      },
      "execution_count": 17,
      "outputs": [
        {
          "output_type": "execute_result",
          "data": {
            "text/plain": [
              "0.8464018309070481"
            ]
          },
          "metadata": {},
          "execution_count": 17
        }
      ]
    },
    {
      "cell_type": "code",
      "source": [
        "# Display precision score\n",
        "precision_score(test_labels,prediction)"
      ],
      "metadata": {
        "colab": {
          "base_uri": "https://localhost:8080/"
        },
        "id": "BuD5IO5MRcIi",
        "outputId": "b13989d8-a11c-4f0f-a6c7-b539e75697ab"
      },
      "execution_count": 18,
      "outputs": [
        {
          "output_type": "execute_result",
          "data": {
            "text/plain": [
              "0.37867298578199055"
            ]
          },
          "metadata": {},
          "execution_count": 18
        }
      ]
    },
    {
      "cell_type": "code",
      "source": [
        "# Display recall score\n",
        "recall_score(test_labels,prediction)"
      ],
      "metadata": {
        "colab": {
          "base_uri": "https://localhost:8080/"
        },
        "id": "DUMcWlIJRegl",
        "outputId": "e79c83ee-f519-4372-d414-a82b9a50db34"
      },
      "execution_count": 19,
      "outputs": [
        {
          "output_type": "execute_result",
          "data": {
            "text/plain": [
              "0.8178096212896623"
            ]
          },
          "metadata": {},
          "execution_count": 19
        }
      ]
    },
    {
      "cell_type": "code",
      "source": [
        "# Display F1 score\n",
        "f1_score(test_labels,prediction)"
      ],
      "metadata": {
        "colab": {
          "base_uri": "https://localhost:8080/"
        },
        "id": "XT9iICh-RgGb",
        "outputId": "9f8d312e-321f-406a-fb4d-801e1ffe31c0"
      },
      "execution_count": 20,
      "outputs": [
        {
          "output_type": "execute_result",
          "data": {
            "text/plain": [
              "0.517654680919987"
            ]
          },
          "metadata": {},
          "execution_count": 20
        }
      ]
    },
    {
      "cell_type": "code",
      "source": [
        "# import function\n",
        "from sklearn.tree import export_graphviz \n",
        "import pydot\n",
        "# pick one tree in the forest\n",
        "tree = clf.estimators_[5]\n",
        "# output the graph\n",
        "export_graphviz(tree, out_file = 'tree.dot', feature_names = feature_list, rounded = True, precision = 1)\n",
        "# create dot document\n",
        "(graph, ) = pydot.graph_from_dot_file('tree.dot')\n",
        "# write into png\n",
        "graph.write_png('tree.png')"
      ],
      "metadata": {
        "id": "R93uz46P2ZnN"
      },
      "execution_count": 26,
      "outputs": []
    },
    {
      "cell_type": "code",
      "source": [
        "# get feature's importance\n",
        "importances = list(clf.feature_importances_)\n",
        "# make the features into list\n",
        "feature_importances = [(feature, round(importance, 2)) for feature, importance in zip(feature_list, importances)]\n",
        "# sort as features importance\n",
        "feature_importances = sorted(feature_importances, key = lambda x: x[1], reverse = True)\n",
        "# print out the features importance\n",
        "[print('Variable: {:20} Importance: {}'.format(*pair)) for pair in feature_importances];"
      ],
      "metadata": {
        "colab": {
          "base_uri": "https://localhost:8080/"
        },
        "id": "Bb3cSOSG27tO",
        "outputId": "5c10ea4c-c58f-4eb4-d512-51f4943d1987"
      },
      "execution_count": 27,
      "outputs": [
        {
          "output_type": "stream",
          "name": "stdout",
          "text": [
            "Variable: apache_4a_hospital_death_prob Importance: 0.14\n",
            "Variable: hospital_death       Importance: 0.11\n",
            "Variable: apache_4a_icu_death_prob Importance: 0.09\n",
            "Variable: ventilated_apache    Importance: 0.06\n",
            "Variable: gcs_motor_apache     Importance: 0.05\n",
            "Variable: d1_sysbp_noninvasive_min Importance: 0.05\n",
            "Variable: d1_arterial_ph_min   Importance: 0.04\n",
            "Variable: gcs_verbal_apache    Importance: 0.03\n",
            "Variable: d1_sysbp_min         Importance: 0.03\n",
            "Variable: d1_bun_max           Importance: 0.03\n",
            "Variable: d1_lactate_min       Importance: 0.03\n",
            "Variable: gcs_eyes_apache      Importance: 0.02\n",
            "Variable: d1_mbp_min           Importance: 0.02\n",
            "Variable: d1_mbp_noninvasive_min Importance: 0.02\n",
            "Variable: d1_spo2_min          Importance: 0.02\n",
            "Variable: d1_temp_min          Importance: 0.02\n",
            "Variable: d1_creatinine_max    Importance: 0.02\n",
            "Variable: d1_lactate_max       Importance: 0.02\n",
            "Variable: d1_arterial_pco2_min Importance: 0.02\n",
            "Variable: d1_arterial_po2_min  Importance: 0.02\n",
            "Variable: elective_surgery     Importance: 0.01\n",
            "Variable: apache_2_diagnosis   Importance: 0.01\n",
            "Variable: bun_apache           Importance: 0.01\n",
            "Variable: fio2_apache          Importance: 0.01\n",
            "Variable: intubated_apache     Importance: 0.01\n",
            "Variable: map_apache           Importance: 0.01\n",
            "Variable: d1_bun_min           Importance: 0.01\n",
            "Variable: d1_creatinine_min    Importance: 0.01\n",
            "Variable: d1_hco3_max          Importance: 0.01\n",
            "Variable: d1_hco3_min          Importance: 0.01\n",
            "Variable: d1_arterial_pco2_max Importance: 0.01\n",
            "Variable: d1_pao2fio2ratio_min Importance: 0.01\n",
            "Variable: age                  Importance: 0.0\n",
            "Variable: bmi                  Importance: 0.0\n",
            "Variable: height               Importance: 0.0\n",
            "Variable: pre_icu_los_days     Importance: 0.0\n",
            "Variable: readmission_status   Importance: 0.0\n",
            "Variable: weight               Importance: 0.0\n",
            "Variable: albumin_apache       Importance: 0.0\n",
            "Variable: apache_3j_diagnosis  Importance: 0.0\n",
            "Variable: apache_post_operative Importance: 0.0\n",
            "Variable: arf_apache           Importance: 0.0\n",
            "Variable: bilirubin_apache     Importance: 0.0\n",
            "Variable: creatinine_apache    Importance: 0.0\n",
            "Variable: gcs_unable_apache    Importance: 0.0\n",
            "Variable: glucose_apache       Importance: 0.0\n",
            "Variable: heart_rate_apache    Importance: 0.0\n",
            "Variable: hematocrit_apache    Importance: 0.0\n",
            "Variable: paco2_apache         Importance: 0.0\n",
            "Variable: paco2_for_ph_apache  Importance: 0.0\n",
            "Variable: pao2_apache          Importance: 0.0\n",
            "Variable: ph_apache            Importance: 0.0\n",
            "Variable: resprate_apache      Importance: 0.0\n",
            "Variable: sodium_apache        Importance: 0.0\n",
            "Variable: temp_apache          Importance: 0.0\n",
            "Variable: urineoutput_apache   Importance: 0.0\n",
            "Variable: wbc_apache           Importance: 0.0\n",
            "Variable: d1_diasbp_invasive_max Importance: 0.0\n",
            "Variable: d1_diasbp_invasive_min Importance: 0.0\n",
            "Variable: d1_diasbp_max        Importance: 0.0\n",
            "Variable: d1_diasbp_min        Importance: 0.0\n",
            "Variable: d1_diasbp_noninvasive_max Importance: 0.0\n",
            "Variable: d1_diasbp_noninvasive_min Importance: 0.0\n",
            "Variable: d1_heartrate_max     Importance: 0.0\n",
            "Variable: d1_heartrate_min     Importance: 0.0\n",
            "Variable: d1_mbp_invasive_max  Importance: 0.0\n",
            "Variable: d1_mbp_invasive_min  Importance: 0.0\n",
            "Variable: d1_mbp_max           Importance: 0.0\n",
            "Variable: d1_mbp_noninvasive_max Importance: 0.0\n",
            "Variable: d1_resprate_max      Importance: 0.0\n",
            "Variable: d1_resprate_min      Importance: 0.0\n",
            "Variable: d1_spo2_max          Importance: 0.0\n",
            "Variable: d1_sysbp_invasive_max Importance: 0.0\n",
            "Variable: d1_sysbp_invasive_min Importance: 0.0\n",
            "Variable: d1_sysbp_max         Importance: 0.0\n",
            "Variable: d1_sysbp_noninvasive_max Importance: 0.0\n",
            "Variable: d1_temp_max          Importance: 0.0\n",
            "Variable: h1_diasbp_invasive_max Importance: 0.0\n",
            "Variable: h1_diasbp_invasive_min Importance: 0.0\n",
            "Variable: h1_diasbp_max        Importance: 0.0\n",
            "Variable: h1_diasbp_min        Importance: 0.0\n",
            "Variable: h1_diasbp_noninvasive_max Importance: 0.0\n",
            "Variable: h1_diasbp_noninvasive_min Importance: 0.0\n",
            "Variable: h1_heartrate_max     Importance: 0.0\n",
            "Variable: h1_heartrate_min     Importance: 0.0\n",
            "Variable: h1_mbp_invasive_max  Importance: 0.0\n",
            "Variable: h1_mbp_invasive_min  Importance: 0.0\n",
            "Variable: h1_mbp_max           Importance: 0.0\n",
            "Variable: h1_mbp_min           Importance: 0.0\n",
            "Variable: h1_mbp_noninvasive_max Importance: 0.0\n",
            "Variable: h1_mbp_noninvasive_min Importance: 0.0\n",
            "Variable: h1_resprate_max      Importance: 0.0\n",
            "Variable: h1_resprate_min      Importance: 0.0\n",
            "Variable: h1_spo2_max          Importance: 0.0\n",
            "Variable: h1_spo2_min          Importance: 0.0\n",
            "Variable: h1_sysbp_invasive_max Importance: 0.0\n",
            "Variable: h1_sysbp_invasive_min Importance: 0.0\n",
            "Variable: h1_sysbp_max         Importance: 0.0\n",
            "Variable: h1_sysbp_min         Importance: 0.0\n",
            "Variable: h1_sysbp_noninvasive_max Importance: 0.0\n",
            "Variable: h1_sysbp_noninvasive_min Importance: 0.0\n",
            "Variable: h1_temp_max          Importance: 0.0\n",
            "Variable: h1_temp_min          Importance: 0.0\n",
            "Variable: d1_albumin_max       Importance: 0.0\n",
            "Variable: d1_albumin_min       Importance: 0.0\n",
            "Variable: d1_bilirubin_max     Importance: 0.0\n",
            "Variable: d1_bilirubin_min     Importance: 0.0\n",
            "Variable: d1_calcium_max       Importance: 0.0\n",
            "Variable: d1_calcium_min       Importance: 0.0\n",
            "Variable: d1_glucose_max       Importance: 0.0\n",
            "Variable: d1_glucose_min       Importance: 0.0\n",
            "Variable: d1_hemaglobin_max    Importance: 0.0\n",
            "Variable: d1_hemaglobin_min    Importance: 0.0\n",
            "Variable: d1_hematocrit_max    Importance: 0.0\n",
            "Variable: d1_hematocrit_min    Importance: 0.0\n",
            "Variable: d1_inr_max           Importance: 0.0\n",
            "Variable: d1_inr_min           Importance: 0.0\n",
            "Variable: d1_platelets_max     Importance: 0.0\n",
            "Variable: d1_platelets_min     Importance: 0.0\n",
            "Variable: d1_potassium_max     Importance: 0.0\n",
            "Variable: d1_potassium_min     Importance: 0.0\n",
            "Variable: d1_sodium_max        Importance: 0.0\n",
            "Variable: d1_sodium_min        Importance: 0.0\n",
            "Variable: d1_wbc_max           Importance: 0.0\n",
            "Variable: d1_wbc_min           Importance: 0.0\n",
            "Variable: h1_albumin_max       Importance: 0.0\n",
            "Variable: h1_albumin_min       Importance: 0.0\n",
            "Variable: h1_bilirubin_max     Importance: 0.0\n",
            "Variable: h1_bilirubin_min     Importance: 0.0\n",
            "Variable: h1_bun_max           Importance: 0.0\n",
            "Variable: h1_bun_min           Importance: 0.0\n",
            "Variable: h1_calcium_max       Importance: 0.0\n",
            "Variable: h1_calcium_min       Importance: 0.0\n",
            "Variable: h1_creatinine_max    Importance: 0.0\n",
            "Variable: h1_creatinine_min    Importance: 0.0\n",
            "Variable: h1_glucose_max       Importance: 0.0\n",
            "Variable: h1_glucose_min       Importance: 0.0\n",
            "Variable: h1_hco3_max          Importance: 0.0\n",
            "Variable: h1_hco3_min          Importance: 0.0\n",
            "Variable: h1_hemaglobin_max    Importance: 0.0\n",
            "Variable: h1_hemaglobin_min    Importance: 0.0\n",
            "Variable: h1_hematocrit_max    Importance: 0.0\n",
            "Variable: h1_hematocrit_min    Importance: 0.0\n",
            "Variable: h1_inr_max           Importance: 0.0\n",
            "Variable: h1_inr_min           Importance: 0.0\n",
            "Variable: h1_lactate_max       Importance: 0.0\n",
            "Variable: h1_lactate_min       Importance: 0.0\n",
            "Variable: h1_platelets_max     Importance: 0.0\n",
            "Variable: h1_platelets_min     Importance: 0.0\n",
            "Variable: h1_potassium_max     Importance: 0.0\n",
            "Variable: h1_potassium_min     Importance: 0.0\n",
            "Variable: h1_sodium_max        Importance: 0.0\n",
            "Variable: h1_sodium_min        Importance: 0.0\n",
            "Variable: h1_wbc_max           Importance: 0.0\n",
            "Variable: h1_wbc_min           Importance: 0.0\n",
            "Variable: d1_arterial_ph_max   Importance: 0.0\n",
            "Variable: d1_arterial_po2_max  Importance: 0.0\n",
            "Variable: d1_pao2fio2ratio_max Importance: 0.0\n",
            "Variable: h1_arterial_pco2_max Importance: 0.0\n",
            "Variable: h1_arterial_pco2_min Importance: 0.0\n",
            "Variable: h1_arterial_ph_max   Importance: 0.0\n",
            "Variable: h1_arterial_ph_min   Importance: 0.0\n",
            "Variable: h1_arterial_po2_max  Importance: 0.0\n",
            "Variable: h1_arterial_po2_min  Importance: 0.0\n",
            "Variable: h1_pao2fio2ratio_max Importance: 0.0\n",
            "Variable: h1_pao2fio2ratio_min Importance: 0.0\n",
            "Variable: aids                 Importance: 0.0\n",
            "Variable: cirrhosis            Importance: 0.0\n",
            "Variable: diabetes_mellitus    Importance: 0.0\n",
            "Variable: hepatic_failure      Importance: 0.0\n",
            "Variable: immunosuppression    Importance: 0.0\n",
            "Variable: leukemia             Importance: 0.0\n",
            "Variable: lymphoma             Importance: 0.0\n",
            "Variable: solid_tumor_with_metastasis Importance: 0.0\n",
            "Variable: ethnicity_African American Importance: 0.0\n",
            "Variable: ethnicity_Asian      Importance: 0.0\n",
            "Variable: ethnicity_Caucasian  Importance: 0.0\n",
            "Variable: ethnicity_Hispanic   Importance: 0.0\n",
            "Variable: ethnicity_Native American Importance: 0.0\n",
            "Variable: ethnicity_Other/Unknown Importance: 0.0\n",
            "Variable: gender_F             Importance: 0.0\n",
            "Variable: gender_M             Importance: 0.0\n",
            "Variable: hospital_admit_source_Acute Care/Floor Importance: 0.0\n",
            "Variable: hospital_admit_source_Chest Pain Center Importance: 0.0\n",
            "Variable: hospital_admit_source_Direct Admit Importance: 0.0\n",
            "Variable: hospital_admit_source_Emergency Department Importance: 0.0\n",
            "Variable: hospital_admit_source_Floor Importance: 0.0\n",
            "Variable: hospital_admit_source_ICU Importance: 0.0\n",
            "Variable: hospital_admit_source_ICU to SDU Importance: 0.0\n",
            "Variable: hospital_admit_source_Observation Importance: 0.0\n",
            "Variable: hospital_admit_source_Operating Room Importance: 0.0\n",
            "Variable: hospital_admit_source_Other Importance: 0.0\n",
            "Variable: hospital_admit_source_Other Hospital Importance: 0.0\n",
            "Variable: hospital_admit_source_Other ICU Importance: 0.0\n",
            "Variable: hospital_admit_source_PACU Importance: 0.0\n",
            "Variable: hospital_admit_source_Recovery Room Importance: 0.0\n",
            "Variable: hospital_admit_source_Step-Down Unit (SDU) Importance: 0.0\n",
            "Variable: icu_admit_source_Accident & Emergency Importance: 0.0\n",
            "Variable: icu_admit_source_Floor Importance: 0.0\n",
            "Variable: icu_admit_source_Operating Room / Recovery Importance: 0.0\n",
            "Variable: icu_admit_source_Other Hospital Importance: 0.0\n",
            "Variable: icu_admit_source_Other ICU Importance: 0.0\n",
            "Variable: icu_stay_type_admit  Importance: 0.0\n",
            "Variable: icu_stay_type_readmit Importance: 0.0\n",
            "Variable: icu_stay_type_transfer Importance: 0.0\n",
            "Variable: icu_type_CCU-CTICU   Importance: 0.0\n",
            "Variable: icu_type_CSICU       Importance: 0.0\n",
            "Variable: icu_type_CTICU       Importance: 0.0\n",
            "Variable: icu_type_Cardiac ICU Importance: 0.0\n",
            "Variable: icu_type_MICU        Importance: 0.0\n",
            "Variable: icu_type_Med-Surg ICU Importance: 0.0\n",
            "Variable: icu_type_Neuro ICU   Importance: 0.0\n",
            "Variable: icu_type_SICU        Importance: 0.0\n",
            "Variable: apache_3j_bodysystem_Cardiovascular Importance: 0.0\n",
            "Variable: apache_3j_bodysystem_Gastrointestinal Importance: 0.0\n",
            "Variable: apache_3j_bodysystem_Genitourinary Importance: 0.0\n",
            "Variable: apache_3j_bodysystem_Gynecological Importance: 0.0\n",
            "Variable: apache_3j_bodysystem_Hematological Importance: 0.0\n",
            "Variable: apache_3j_bodysystem_Metabolic Importance: 0.0\n",
            "Variable: apache_3j_bodysystem_Musculoskeletal/Skin Importance: 0.0\n",
            "Variable: apache_3j_bodysystem_Neurological Importance: 0.0\n",
            "Variable: apache_3j_bodysystem_Respiratory Importance: 0.0\n",
            "Variable: apache_3j_bodysystem_Sepsis Importance: 0.0\n",
            "Variable: apache_3j_bodysystem_Trauma Importance: 0.0\n",
            "Variable: apache_2_bodysystem_Cardiovascular Importance: 0.0\n",
            "Variable: apache_2_bodysystem_Gastrointestinal Importance: 0.0\n",
            "Variable: apache_2_bodysystem_Haematologic Importance: 0.0\n",
            "Variable: apache_2_bodysystem_Metabolic Importance: 0.0\n",
            "Variable: apache_2_bodysystem_Neurologic Importance: 0.0\n",
            "Variable: apache_2_bodysystem_Renal/Genitourinary Importance: 0.0\n",
            "Variable: apache_2_bodysystem_Respiratory Importance: 0.0\n",
            "Variable: apache_2_bodysystem_Trauma Importance: 0.0\n",
            "Variable: apache_2_bodysystem_Undefined Diagnoses Importance: 0.0\n",
            "Variable: apache_2_bodysystem_Undefined diagnoses Importance: 0.0\n"
          ]
        }
      ]
    },
    {
      "cell_type": "code",
      "source": [
        "#random forest without weighted\n",
        "clf2 = RandomForestClassifier(max_depth=2, n_jobs=2, random_state=0)\n",
        "clf2.fit(train_features, train_labels)\n",
        "\n",
        "print(clf2.score(test_features, test_labels))\n",
        "\n",
        "# Create our predictions\n",
        "prediction2 = clf2.predict(test_features)\n"
      ],
      "metadata": {
        "colab": {
          "base_uri": "https://localhost:8080/"
        },
        "id": "7Fe5tDnhTUxC",
        "outputId": "bbd12bdb-b575-4667-f17d-bcc23699690e"
      },
      "execution_count": 81,
      "outputs": [
        {
          "output_type": "stream",
          "name": "stdout",
          "text": [
            "0.9169174407954992\n"
          ]
        }
      ]
    },
    {
      "cell_type": "code",
      "source": [
        "# Create confusion matrix\n",
        "confusion_matrix(test_labels, prediction2)\n",
        "cm2 = confusion_matrix(test_labels, prediction2, labels=clf.classes_)\n",
        "disp2= ConfusionMatrixDisplay(confusion_matrix=cm2,display_labels=clf.classes_)\n",
        "disp2.plot()\n",
        "plt.show()"
      ],
      "metadata": {
        "colab": {
          "base_uri": "https://localhost:8080/",
          "height": 279
        },
        "id": "MeYqKjKffrQY",
        "outputId": "a46967d7-05a7-4819-ab66-b62f457f9bdf"
      },
      "execution_count": 82,
      "outputs": [
        {
          "output_type": "display_data",
          "data": {
            "text/plain": [
              "<Figure size 432x288 with 2 Axes>"
            ],
            "image/png": "[encoded data removed]"
          },
          "metadata": {
            "needs_background": "light"
          }
        }
      ]
    },
    {
      "cell_type": "code",
      "source": [
        "# Display accuracy score\n",
        "accuracy_score(test_labels,prediction2)"
      ],
      "metadata": {
        "colab": {
          "base_uri": "https://localhost:8080/"
        },
        "id": "7GUCZ3MPT-uc",
        "outputId": "369218da-12cf-435a-823f-8db61878033a"
      },
      "execution_count": 43,
      "outputs": [
        {
          "output_type": "execute_result",
          "data": {
            "text/plain": [
              "0.9169174407954992"
            ]
          },
          "metadata": {},
          "execution_count": 43
        }
      ]
    },
    {
      "cell_type": "code",
      "source": [
        "# Display roc_auc_score\n",
        "roc_auc_score(test_labels,prediction2)"
      ],
      "metadata": {
        "colab": {
          "base_uri": "https://localhost:8080/"
        },
        "id": "o5ln6tCdUECE",
        "outputId": "0b177135-5b75-4bc0-ab1f-248aead151ea"
      },
      "execution_count": 36,
      "outputs": [
        {
          "output_type": "execute_result",
          "data": {
            "text/plain": [
              "0.5125383828045036"
            ]
          },
          "metadata": {},
          "execution_count": 36
        }
      ]
    },
    {
      "cell_type": "code",
      "source": [
        "# Display precision score\n",
        "precision_score(test_labels,prediction2)"
      ],
      "metadata": {
        "colab": {
          "base_uri": "https://localhost:8080/"
        },
        "id": "dzdMJAZsUKVL",
        "outputId": "88d363fe-e827-41d2-8072-7809487adbfc"
      },
      "execution_count": 44,
      "outputs": [
        {
          "output_type": "execute_result",
          "data": {
            "text/plain": [
              "1.0"
            ]
          },
          "metadata": {},
          "execution_count": 44
        }
      ]
    },
    {
      "cell_type": "code",
      "source": [
        "# Display recall score\n",
        "recall_score(test_labels,prediction2)"
      ],
      "metadata": {
        "colab": {
          "base_uri": "https://localhost:8080/"
        },
        "id": "3lwT6IeZURCH",
        "outputId": "55cc2f6e-fe92-41c0-b63b-d0f7e2f616b0"
      },
      "execution_count": 83,
      "outputs": [
        {
          "output_type": "execute_result",
          "data": {
            "text/plain": [
              "0.025076765609007165"
            ]
          },
          "metadata": {},
          "execution_count": 83
        }
      ]
    },
    {
      "cell_type": "code",
      "source": [
        "# Display F1 score\n",
        "f1_score(test_labels,prediction2)"
      ],
      "metadata": {
        "colab": {
          "base_uri": "https://localhost:8080/"
        },
        "id": "6XQbaEUUUVXw",
        "outputId": "aaafbf17-381c-4667-9589-2ecbc0e111b4"
      },
      "execution_count": 35,
      "outputs": [
        {
          "output_type": "execute_result",
          "data": {
            "text/plain": [
              "0.04892661008487269"
            ]
          },
          "metadata": {},
          "execution_count": 35
        }
      ]
    }
  ]
}
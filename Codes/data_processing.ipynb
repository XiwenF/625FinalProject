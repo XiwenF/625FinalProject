{
  "nbformat": 4,
  "nbformat_minor": 0,
  "metadata": {
    "colab": {
      "provenance": []
    },
    "kernelspec": {
      "name": "python3",
      "display_name": "Python 3"
    },
    "language_info": {
      "name": "python"
    }
  },
  "cells": [
    {
      "cell_type": "code",
      "execution_count": null,
      "metadata": {
        "id": "VPI1xsZCZaqY"
      },
      "outputs": [],
      "source": [
        "#from sklearn.ensemble import HistGradientBoostingClassifier\n",
        "#from sklearn.preprocessing import OrdinalEncoder\n",
        "\n",
        "#Pandas is used for data manipulation\n",
        "import pandas as pd\n",
        "# Read in data and display first 5 rows\n",
        "features = pd.read_csv(\"Dataset.csv\")\n",
        "features.head(5)\n",
        "# Descriptive statistics for each column\n",
        "features.describe()\n",
        "# One-hot encode the data using pandas get_dummies\n",
        "features = pd.get_dummies(features)\n",
        "# Display the first 5 rows of the last 12 columns\n",
        "features.iloc[:,5:].head(5)\n",
        "# Use numpy to convert to arrays\n",
        "import numpy as np\n",
        "# Labels are the values we want to predict\n",
        "labels = np.array(features['hospital_death'])\n",
        "\n",
        "# Remove the labels from the features\n",
        "# axis 1 refers to the columns\n",
        "features= features.drop('encounter_id', axis = 1)\n",
        "features= features.drop('patient_id', axis = 1)\n",
        "features= features.drop('hospital_id', axis = 1)\n",
        "features= features.drop('icu_id', axis = 1)\n",
        "# Saving feature names for later use\n",
        "feature_list = list(features.columns)\n",
        "# Convert to numpy array\n",
        "features = np.array(features)\n",
        "# Using Skicit-learn to split data into training and testing sets\n",
        "from sklearn.model_selection import train_test_split\n",
        "# Split the data into training and testing sets\n",
        "train_features, test_features, train_labels, test_labels = train_test_split(features, labels, test_size = 0.25, random_state = 42)\n",
        "\n",
        "from sklearn.ensemble import RandomForestClassifier\n",
        "from sklearn.impute import SimpleImputer\n",
        "\n",
        "imp = SimpleImputer(missing_values=np.nan, strategy=\"mean\")\n",
        "train_features = imp.fit_transform(train_features)\n",
        "test_features = imp.transform(test_features)\n",
        "\n",
        "#Write train dataset and test dataset into dataframe\n",
        "df = pd.DataFrame(features,columns = feature_list)\n",
        "df.to_csv(index=False)\n",
        "\n",
        "dftrain = pd.DataFrame(train_features,columns = feature_list)\n",
        "dftest = pd.DataFrame(test_features,columns = feature_list)\n",
        "dftrain.to_csv(index=False)\n",
        "dftest.to_csv(index=False)\n",
        "\n",
        "#output the dataframe into zip\n",
        "compression_opts = dict(method='zip',\n",
        "                        archive_name='out.csv')  \n",
        "df.to_csv('out.zip', index=False,\n",
        "          compression=compression_opts) \n",
        "\n",
        "compression_opts = dict(method='zip',\n",
        "                        archive_name='outtrain.csv')  \n",
        "dftrain.to_csv('outtrain.zip', index=False,\n",
        "          compression=compression_opts) \n",
        "\n",
        "compression_opts = dict(method='zip',\n",
        "                        archive_name='outtest.csv')  \n",
        "dftest.to_csv('outtest.zip', index=False,\n",
        "          compression=compression_opts) "
      ]
    }
  ]
}